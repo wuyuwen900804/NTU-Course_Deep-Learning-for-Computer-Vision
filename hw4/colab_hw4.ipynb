{
  "nbformat": 4,
  "nbformat_minor": 0,
  "metadata": {
    "colab": {
      "provenance": [],
      "machine_shape": "hm",
      "gpuType": "L4"
    },
    "kernelspec": {
      "name": "python3",
      "display_name": "Python 3"
    },
    "language_info": {
      "name": "python"
    },
    "accelerator": "GPU"
  },
  "cells": [
    {
      "cell_type": "code",
      "execution_count": null,
      "metadata": {
        "id": "u9wdDd8NuFSI"
      },
      "outputs": [],
      "source": [
        "!sudo apt-get update -y\n",
        "!sudo apt-get install python3.8 python3.8-dev python3.8-distutils -y build-essential"
      ]
    },
    {
      "cell_type": "code",
      "source": [
        "!curl https://bootstrap.pypa.io/get-pip.py -o get-pip.py\n",
        "!python3.8 get-pip.py"
      ],
      "metadata": {
        "id": "jbuD3zBmviEw"
      },
      "execution_count": null,
      "outputs": []
    },
    {
      "cell_type": "code",
      "source": [
        "!python3.8 -m pip install torch torchvision torchaudio"
      ],
      "metadata": {
        "id": "hYvcPu-F3qhM"
      },
      "execution_count": null,
      "outputs": []
    },
    {
      "cell_type": "code",
      "source": [
        "!python3.8 -m pip install plyfile==0.8.1 opencv-python==4.10.0.84 scipy==1.7.3"
      ],
      "metadata": {
        "id": "3RdjXIHZuebz"
      },
      "execution_count": null,
      "outputs": []
    },
    {
      "cell_type": "code",
      "source": [
        "!python3.8 -m pip install imageio==2.31.2 lpips==0.1.4 numpy==1.21.6 tqdm joblib"
      ],
      "metadata": {
        "id": "2wcQUgwruxeo"
      },
      "execution_count": null,
      "outputs": []
    },
    {
      "cell_type": "code",
      "source": [
        "%cd '/content/drive/MyDrive/Colab_Notebooks/dlcv-fall-2024-hw4-wuyuwen900804/gaussian-splatting'"
      ],
      "metadata": {
        "id": "dBxCsBFgCy21"
      },
      "execution_count": null,
      "outputs": []
    },
    {
      "cell_type": "code",
      "source": [
        "!python3.8 -m pip install ./submodules/diff-gaussian-rasterization"
      ],
      "metadata": {
        "id": "b6tGXSZCu9o2"
      },
      "execution_count": null,
      "outputs": []
    },
    {
      "cell_type": "code",
      "source": [
        "!python3.8 -m pip install ./submodules/simple-knn"
      ],
      "metadata": {
        "id": "U0hv89mvV96x"
      },
      "execution_count": null,
      "outputs": []
    },
    {
      "cell_type": "code",
      "source": [
        "!python3.8 -m pip install ./submodules/fused-ssim"
      ],
      "metadata": {
        "id": "sct9UU8HV_qG"
      },
      "execution_count": null,
      "outputs": []
    },
    {
      "cell_type": "code",
      "source": [
        "%cd '/content/drive/MyDrive/Colab_Notebooks/dlcv-fall-2024-hw4-wuyuwen900804'"
      ],
      "metadata": {
        "id": "JfWUtX4d7zQB"
      },
      "execution_count": null,
      "outputs": []
    },
    {
      "cell_type": "code",
      "source": [
        "!python3.8 ./gaussian-splatting/train.py -s './hw4_data/dataset/train' --iteration 240000 --scaling_lr 0.001 --lambda_dssim 0.4"
      ],
      "metadata": {
        "colab": {
          "base_uri": "https://localhost:8080/"
        },
        "id": "okwgCjGl1R3Y",
        "outputId": "86bf8514-48a7-4f84-ccf2-91939be758f8"
      },
      "execution_count": null,
      "outputs": [
        {
          "output_type": "stream",
          "name": "stdout",
          "text": [
            "Output folder: ./output/8849e63b-2 [01/12 04:53:27]\n",
            "Tensorboard not available: not logging progress [01/12 04:53:27]\n",
            "\rReading camera 1/59\rReading camera 2/59\rReading camera 3/59\rReading camera 4/59\rReading camera 5/59\rReading camera 6/59\rReading camera 7/59\rReading camera 8/59\rReading camera 9/59\rReading camera 10/59\rReading camera 11/59\rReading camera 12/59\rReading camera 13/59\rReading camera 14/59\rReading camera 15/59\rReading camera 16/59\rReading camera 17/59\rReading camera 18/59\rReading camera 19/59\rReading camera 20/59\rReading camera 21/59\rReading camera 22/59\rReading camera 23/59\rReading camera 24/59\rReading camera 25/59\rReading camera 26/59\rReading camera 27/59\rReading camera 28/59\rReading camera 29/59\rReading camera 30/59\rReading camera 31/59\rReading camera 32/59\rReading camera 33/59\rReading camera 34/59\rReading camera 35/59\rReading camera 36/59\rReading camera 37/59\rReading camera 38/59\rReading camera 39/59\rReading camera 40/59\rReading camera 41/59\rReading camera 42/59\rReading camera 43/59\rReading camera 44/59\rReading camera 45/59\rReading camera 46/59\rReading camera 47/59\rReading camera 48/59\rReading camera 49/59\rReading camera 50/59\rReading camera 51/59\rReading camera 52/59\rReading camera 53/59\rReading camera 54/59\rReading camera 55/59\rReading camera 56/59\rReading camera 57/59\rReading camera 58/59\rReading camera 59/59 [01/12 04:53:27]\n",
            "Loading Training Cameras [01/12 04:53:27]\n",
            "Loading Test Cameras [01/12 04:53:29]\n",
            "Number of points at initialisation :  13414 [01/12 04:53:29]\n",
            "Training progress:  12% 30000/240000 [16:59<1:59:47, 29.22it/s, Loss=0.0107554, Depth Loss=0.0000000]\n",
            "[ITER 30000] Evaluating train: L1 0.007111184019595385 PSNR 38.949806976318364 [01/12 05:10:29]\n",
            "\n",
            "[ITER 30000] Saving Gaussians [01/12 05:10:29]\n",
            "Training progress:  25% 60000/240000 [33:56<1:40:19, 29.90it/s, Loss=0.0105092, Depth Loss=0.0000000]\n",
            "[ITER 60000] Evaluating train: L1 0.006479680351912976 PSNR 40.01046829223633 [01/12 05:27:26]\n",
            "\n",
            "[ITER 60000] Saving Gaussians [01/12 05:27:26]\n",
            "Training progress:  50% 120000/240000 [1:07:20<1:08:15, 29.30it/s, Loss=0.0078699, Depth Loss=0.0000000]\n",
            "[ITER 120000] Evaluating train: L1 0.005607871245592833 PSNR 41.208139801025396 [01/12 06:00:50]\n",
            "\n",
            "[ITER 120000] Saving Gaussians [01/12 06:00:50]\n",
            "Training progress:  62% 150000/240000 [1:24:09<50:10, 29.89it/s, Loss=0.0074230, Depth Loss=0.0000000]\n",
            "[ITER 150000] Evaluating train: L1 0.005471763014793397 PSNR 41.524668121337896 [01/12 06:17:38]\n",
            "\n",
            "[ITER 150000] Saving Gaussians [01/12 06:17:38]\n",
            "Training progress:  75% 180000/240000 [1:41:00<33:13, 30.10it/s, Loss=0.0070108, Depth Loss=0.0000000]\n",
            "[ITER 180000] Evaluating train: L1 0.005845042411237955 PSNR 41.42312850952149 [01/12 06:34:30]\n",
            "\n",
            "[ITER 180000] Saving Gaussians [01/12 06:34:30]\n",
            "Training progress: 100% 240000/240000 [2:14:46<00:00, 29.68it/s, Loss=0.0080667, Depth Loss=0.0000000]\n",
            "\n",
            "[ITER 240000] Evaluating train: L1 0.005305998958647251 PSNR 41.85030517578125 [01/12 07:08:16]\n",
            "\n",
            "[ITER 240000] Saving Gaussians [01/12 07:08:16]\n",
            "\n",
            "Number of 3D Gaussians: 664204 [01/12 07:08:22]\n",
            "\n",
            "[ITER 240000] Saving Checkpoint [01/12 07:08:22]\n",
            "\n",
            "Training complete. [01/12 07:08:23]\n"
          ]
        }
      ]
    },
    {
      "cell_type": "code",
      "source": [
        "!python3.8 gaussian-splatting/render_inf.py -m 'inference_model' -s 'hw4_data/dataset/public_test' --output_path 'Output_images'"
      ],
      "metadata": {
        "colab": {
          "base_uri": "https://localhost:8080/"
        },
        "id": "NAdvJzOnT_Ao",
        "outputId": "46cbe1ca-b49e-4e56-c740-48eea7d8de41"
      },
      "execution_count": null,
      "outputs": [
        {
          "output_type": "stream",
          "name": "stdout",
          "text": [
            "Looking for config file in ./inference_model/cfg_args\n",
            "Config file found: ./inference_model/cfg_args\n",
            "Rendering ./inference_model\n",
            "Loading trained model at iteration 240000 [01/12 07:39:55]\n",
            "\rReading camera 1/50\rReading camera 2/50\rReading camera 3/50\rReading camera 4/50\rReading camera 5/50\rReading camera 6/50\rReading camera 7/50\rReading camera 8/50\rReading camera 9/50\rReading camera 10/50\rReading camera 11/50\rReading camera 12/50\rReading camera 13/50\rReading camera 14/50\rReading camera 15/50\rReading camera 16/50\rReading camera 17/50\rReading camera 18/50\rReading camera 19/50\rReading camera 20/50\rReading camera 21/50\rReading camera 22/50\rReading camera 23/50\rReading camera 24/50\rReading camera 25/50\rReading camera 26/50\rReading camera 27/50\rReading camera 28/50\rReading camera 29/50\rReading camera 30/50\rReading camera 31/50\rReading camera 32/50\rReading camera 33/50\rReading camera 34/50\rReading camera 35/50\rReading camera 36/50\rReading camera 37/50\rReading camera 38/50\rReading camera 39/50\rReading camera 40/50\rReading camera 41/50\rReading camera 42/50\rReading camera 43/50\rReading camera 44/50\rReading camera 45/50\rReading camera 46/50\rReading camera 47/50\rReading camera 48/50\rReading camera 49/50\rReading camera 50/50 [01/12 07:39:55]\n",
            "Loading Training Cameras [01/12 07:39:55]\n",
            "Loading Test Cameras [01/12 07:39:55]\n",
            "Rendering progress: 100% 50/50 [00:09<00:00,  5.54it/s]\n"
          ]
        }
      ]
    },
    {
      "cell_type": "code",
      "source": [
        "!python3.8 grade.py 'output_inf' './hw4_data/dataset/public_test/images'"
      ],
      "metadata": {
        "colab": {
          "base_uri": "https://localhost:8080/"
        },
        "id": "SV0eIaL-7YPr",
        "outputId": "0ab664df-7196-4c8a-88e0-845f8c89640f"
      },
      "execution_count": null,
      "outputs": [
        {
          "output_type": "stream",
          "name": "stdout",
          "text": [
            "\r  0% 0/50 [00:00<?, ?it/s]init_lpips: lpips_vgg\n",
            "Setting up [LPIPS] perceptual loss: trunk [vgg], v[0.1], spatial [off]\n",
            "/usr/local/lib/python3.8/dist-packages/torchvision/models/_utils.py:208: UserWarning: The parameter 'pretrained' is deprecated since 0.13 and may be removed in the future, please use 'weights' instead.\n",
            "  warnings.warn(\n",
            "/usr/local/lib/python3.8/dist-packages/torchvision/models/_utils.py:223: UserWarning: Arguments other than a weight enum or `None` for 'weights' are deprecated since 0.13 and may be removed in the future. The current behavior is equivalent to passing `weights=VGG16_Weights.IMAGENET1K_V1`. You can also use `weights=VGG16_Weights.DEFAULT` to get the most up-to-date weights.\n",
            "  warnings.warn(msg)\n",
            "Loading model from: /usr/local/lib/python3.8/dist-packages/lpips/weights/v0.1/vgg.pth\n",
            "/usr/local/lib/python3.8/dist-packages/lpips/lpips.py:107: FutureWarning: You are using `torch.load` with `weights_only=False` (the current default value), which uses the default pickle module implicitly. It is possible to construct malicious pickle data which will execute arbitrary code during unpickling (See https://github.com/pytorch/pytorch/blob/main/SECURITY.md#untrusted-models for more details). In a future release, the default value for `weights_only` will be flipped to `True`. This limits the functions that could be executed during unpickling. Arbitrary objects will no longer be allowed to be loaded via this mode unless they are explicitly allowlisted by the user via `torch.serialization.add_safe_globals`. We recommend you start setting `weights_only=True` for any use case where you don't have full control of the loaded file. Please open an issue on GitHub for any issues related to this experimental feature.\n",
            "  self.load_state_dict(torch.load(model_path, map_location='cpu'), strict=False)\n",
            "100% 50/50 [00:54<00:00,  1.09s/it]\n",
            "Testing psnr 35.29594449996948 (avg)\n",
            "Testing ssim 0.9758962940897626 (avg)\n",
            "Testing lpips (vgg) 0.07867281153798103 (avg)\n"
          ]
        }
      ]
    },
    {
      "cell_type": "code",
      "source": [
        "!python3.8 random_point.py"
      ],
      "metadata": {
        "id": "RpuykQD0C6dT"
      },
      "execution_count": null,
      "outputs": []
    },
    {
      "cell_type": "code",
      "source": [
        "!bash hw4.sh 'hw4_data/dataset/private_test' 'output_test_inf'"
      ],
      "metadata": {
        "id": "HKcoPbmOHA0V",
        "colab": {
          "base_uri": "https://localhost:8080/"
        },
        "outputId": "23eddf79-adf9-4529-afb2-f88c96a2919c"
      },
      "execution_count": null,
      "outputs": [
        {
          "output_type": "stream",
          "name": "stdout",
          "text": [
            "hw4.sh: line 2: $'\\r': command not found\n",
            "Looking for config file in inference_model/cfg_args\n",
            "Config file found: inference_model/cfg_args\n",
            "Rendering inference_model\n",
            "Loading trained model at iteration 240000 [01/12 07:46:54]\n",
            "Reading camera 170/170 [01/12 07:46:57]\n",
            "Loading Training Cameras [01/12 07:46:57]\n",
            "Loading Test Cameras [01/12 07:46:57]\n",
            "Rendering progress: 100% 170/170 [00:30<00:00,  5.60it/s]\n"
          ]
        }
      ]
    }
  ]
}