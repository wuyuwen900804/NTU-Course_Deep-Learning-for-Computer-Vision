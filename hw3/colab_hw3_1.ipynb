{
  "cells": [
    {
      "cell_type": "code",
      "execution_count": null,
      "metadata": {
        "id": "93D6WxSd5cBt"
      },
      "outputs": [],
      "source": [
        "!sudo apt-get update -y\n",
        "!sudo apt-get install python3.8 python3.8-dev python3.8-distutils -y"
      ]
    },
    {
      "cell_type": "code",
      "execution_count": null,
      "metadata": {
        "id": "kMYIeLzi6Whr"
      },
      "outputs": [],
      "source": [
        "!curl https://bootstrap.pypa.io/get-pip.py -o get-pip.py\n",
        "!python3.8 get-pip.py"
      ]
    },
    {
      "cell_type": "code",
      "execution_count": null,
      "metadata": {
        "id": "hMoHgjsT5yUQ"
      },
      "outputs": [],
      "source": [
        "!python3.8 -m pip install torch==1.13.1 torchvision==0.14.1 bitsandbytes==0.44.1 accelerate==1.0.1 transformers==4.45.2"
      ]
    },
    {
      "cell_type": "code",
      "execution_count": null,
      "metadata": {
        "id": "jKss7leT8zG0"
      },
      "outputs": [],
      "source": [
        "# Oracle Java\n",
        "!sudo add-apt-repository ppa:webupd8team/java\n",
        "!sudo apt upadte\n",
        "!apt-get install oracle-java8-installer\n",
        "# libxml-parser-perl\n",
        "!sudo apt install libxml-parser-perl"
      ]
    },
    {
      "cell_type": "code",
      "execution_count": null,
      "metadata": {
        "id": "jLWQL4Iq6qyf"
      },
      "outputs": [],
      "source": [
        "!python3.8 -m pip install git+https://github.com/bckim92/language-evaluation.git"
      ]
    },
    {
      "cell_type": "code",
      "execution_count": null,
      "metadata": {
        "id": "7I667bTI62Z5"
      },
      "outputs": [],
      "source": [
        "!python3.8 -c \"import language_evaluation; language_evaluation.download('coco')\""
      ]
    },
    {
      "cell_type": "code",
      "execution_count": null,
      "metadata": {
        "id": "cBZInbsj-TFL"
      },
      "outputs": [],
      "source": [
        "!python3.8 -m pip install ftfy regex tqdm"
      ]
    },
    {
      "cell_type": "code",
      "execution_count": null,
      "metadata": {
        "id": "VtNHk4Xs-XFp"
      },
      "outputs": [],
      "source": [
        "!python3.8 -m pip install git+https://github.com/openai/CLIP.git"
      ]
    },
    {
      "cell_type": "code",
      "execution_count": null,
      "metadata": {
        "id": "9GQKqYwF71bI"
      },
      "outputs": [],
      "source": [
        "%cd '/content/drive/MyDrive/Colab_Notebooks/dlcv-fall-2024-hw3-wuyuwen900804'"
      ]
    },
    {
      "cell_type": "code",
      "execution_count": null,
      "metadata": {
        "id": "UORCStBCEUFM"
      },
      "outputs": [],
      "source": [
        "!python3.8 p1_inference.py \"hw3_data/p1_data/images/val\" \"hw3/output_p1/pred.json\""
      ]
    },
    {
      "cell_type": "code",
      "execution_count": null,
      "metadata": {
        "id": "mGEiCQdVsCw_",
        "colab": {
          "base_uri": "https://localhost:8080/"
        },
        "outputId": "36d9c022-9a2b-4aef-d2fd-274fb1d76086"
      },
      "outputs": [
        {
          "output_type": "stream",
          "name": "stdout",
          "text": [
            "PTBTokenizer tokenized 30632 tokens at 200469.28 tokens per second.\n",
            "PTBTokenizer tokenized 6481 tokens at 59046.24 tokens per second.\n",
            "100%|████████████████████████████████████████| 338M/338M [00:03<00:00, 102MiB/s]\n",
            "CIDEr: 1.1602646832121017 | CLIPScore: 0.781163330078125\n"
          ]
        }
      ],
      "source": [
        "!python3.8 evaluate.py --pred_file 'hw3/output_p1/pred.json' --images_root 'hw3_data/p1_data/images/val' --annotation_file 'hw3_data/p1_data/val.json'"
      ]
    }
  ],
  "metadata": {
    "accelerator": "GPU",
    "colab": {
      "gpuType": "A100",
      "machine_shape": "hm",
      "provenance": []
    },
    "kernelspec": {
      "display_name": "Python 3",
      "name": "python3"
    },
    "language_info": {
      "name": "python"
    }
  },
  "nbformat": 4,
  "nbformat_minor": 0
}