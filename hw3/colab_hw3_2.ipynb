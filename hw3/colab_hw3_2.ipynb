{
  "nbformat": 4,
  "nbformat_minor": 0,
  "metadata": {
    "colab": {
      "provenance": [],
      "machine_shape": "hm",
      "gpuType": "L4"
    },
    "kernelspec": {
      "name": "python3",
      "display_name": "Python 3"
    },
    "language_info": {
      "name": "python"
    },
    "accelerator": "GPU"
  },
  "cells": [
    {
      "cell_type": "code",
      "source": [
        "!sudo apt-get update -y\n",
        "!sudo apt-get install python3.8 python3.8-dev python3.8-distutils -y"
      ],
      "metadata": {
        "id": "WaiVDxz-5v69"
      },
      "execution_count": null,
      "outputs": []
    },
    {
      "cell_type": "code",
      "execution_count": null,
      "metadata": {
        "id": "RwES9gB-FYXV"
      },
      "outputs": [],
      "source": [
        "!curl https://bootstrap.pypa.io/get-pip.py -o get-pip.py\n",
        "!python3.8 get-pip.py"
      ]
    },
    {
      "cell_type": "code",
      "source": [
        "!python3.8 -m pip install imageio==2.21.3 matplotlib==3.6.1 numpy==1.23.4 Pillow==9.2.0 scipy==1.9.1 opencv-python==4.6.0.66 loralib==0.1.2"
      ],
      "metadata": {
        "id": "C-H1ztGlFcmL"
      },
      "execution_count": null,
      "outputs": []
    },
    {
      "cell_type": "code",
      "source": [
        "!python3.8 -m pip install pycocotools==2.0.5 timm==0.9.10 torch==1.13.1 torchvision==0.14.1 pandas==1.5.1"
      ],
      "metadata": {
        "id": "IHui7bpbFp0T"
      },
      "execution_count": null,
      "outputs": []
    },
    {
      "cell_type": "code",
      "source": [
        "# Oracle Java\n",
        "!sudo add-apt-repository ppa:webupd8team/java\n",
        "!sudo apt upadte\n",
        "!apt-get install oracle-java8-installer\n",
        "# libxml-parser-perl\n",
        "!sudo apt install libxml-parser-perl"
      ],
      "metadata": {
        "id": "Wo93QW8tF0QW"
      },
      "execution_count": null,
      "outputs": []
    },
    {
      "cell_type": "code",
      "source": [
        "!python3.8 -m pip install git+https://github.com/bckim92/language-evaluation.git"
      ],
      "metadata": {
        "id": "vAiCEuVXF8Yr"
      },
      "execution_count": null,
      "outputs": []
    },
    {
      "cell_type": "code",
      "source": [
        "!python3.8 -c \"import language_evaluation; language_evaluation.download('coco')\""
      ],
      "metadata": {
        "id": "DwAzshRiF-xV"
      },
      "execution_count": null,
      "outputs": []
    },
    {
      "cell_type": "code",
      "source": [
        "!python3.8 -m pip install ftfy regex tqdm"
      ],
      "metadata": {
        "id": "E993JQJ5F_tH"
      },
      "execution_count": null,
      "outputs": []
    },
    {
      "cell_type": "code",
      "source": [
        "!python3.8 -m pip install seaborn"
      ],
      "metadata": {
        "id": "racnWUhP4uJR"
      },
      "execution_count": null,
      "outputs": []
    },
    {
      "cell_type": "code",
      "source": [
        "!python3.8 -m pip install git+https://github.com/openai/CLIP.git"
      ],
      "metadata": {
        "id": "1WQpzG2XGEKv"
      },
      "execution_count": null,
      "outputs": []
    },
    {
      "cell_type": "code",
      "source": [
        "%cd '/content/drive/MyDrive/Colab_Notebooks/dlcv-fall-2024-hw3-wuyuwen900804'"
      ],
      "metadata": {
        "id": "c7aZO450GFZ_"
      },
      "execution_count": null,
      "outputs": []
    },
    {
      "cell_type": "code",
      "source": [
        "!python3.8 p2/train.py"
      ],
      "metadata": {
        "id": "1qv-g4qw5ILg"
      },
      "execution_count": null,
      "outputs": []
    },
    {
      "cell_type": "code",
      "source": [
        "!python3.8 p2/main.py"
      ],
      "metadata": {
        "id": "t2uh_pWw6wTG"
      },
      "execution_count": null,
      "outputs": []
    },
    {
      "cell_type": "code",
      "source": [
        "!bash hw3_2.sh \"hw3_data/p2_data/images/val/\" \"hw3/output_p2/pred.json\" \"hw3_data/p2_data/decoder_model.bin\""
      ],
      "metadata": {
        "id": "dghGvZJizAfp"
      },
      "execution_count": null,
      "outputs": []
    },
    {
      "cell_type": "code",
      "source": [
        "!python3.8 evaluate.py --pred_file 'hw3/output_p2/pred.json' --images_root 'hw3_data/p2_data/images/val' --annotation_file 'hw3_data/p2_data/val.json'"
      ],
      "metadata": {
        "colab": {
          "base_uri": "https://localhost:8080/"
        },
        "id": "h0vvz_yzNC35",
        "outputId": "def31a08-2425-4a84-eb00-d210c051cf51"
      },
      "execution_count": null,
      "outputs": [
        {
          "output_type": "stream",
          "name": "stdout",
          "text": [
            "PTBTokenizer tokenized 123146 tokens at 550617.16 tokens per second.\n",
            "PTBTokenizer tokenized 23462 tokens at 160563.92 tokens per second.\n",
            "CIDEr: 0.9156244241584307 | CLIPScore: 0.7313275146484375\n"
          ]
        }
      ]
    }
  ]
}